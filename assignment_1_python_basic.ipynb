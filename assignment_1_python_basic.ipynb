{
 "cells": [
  {
   "cell_type": "markdown",
   "id": "4c974b15",
   "metadata": {},
   "source": [
    "1. In the below elements which of them are values or an expression? eg:- values can be integer or string and expressions will be mathematical operators."
   ]
  },
  {
   "cell_type": "markdown",
   "id": "b4a94ca7",
   "metadata": {},
   "source": [
    "ans:\n",
    "\n",
    "i/values are: \n",
    "'hello', -87.8, 6\n",
    "\n",
    "ii/expression are:\n",
    "-, /, +"
   ]
  },
  {
   "cell_type": "markdown",
   "id": "f630ef0c",
   "metadata": {},
   "source": [
    "2. What is the difference between string and variable?"
   ]
  },
  {
   "cell_type": "markdown",
   "id": "cd92b0ab",
   "metadata": {},
   "source": [
    "ans:\n",
    "\n",
    "i/string: string is a data type, which is comibination of some character and the character is quoted\n",
    "by single('') or double(\"\") quotation.\n",
    "\n",
    "ii/variable: variable is container which can contain or store any kind of data.\n",
    "\n",
    "iii/Difference between string and variable: string is a data type but variable is data container. string can't store a data but variable can."
   ]
  },
  {
   "cell_type": "markdown",
   "id": "4fbadf08",
   "metadata": {},
   "source": [
    "3. Describe three different data types."
   ]
  },
  {
   "cell_type": "markdown",
   "id": "1ba5a321",
   "metadata": {},
   "source": [
    "ans:\n",
    "\n",
    "three kind of data types are:\n",
    "\n",
    "i/ integer : integer are numeric number.\n",
    "exmple: 7,10,1200\n",
    "\n",
    "ii/float: float is numeric numbers with radix point.\n",
    "example: 12.14,15.9\n",
    "\n",
    "iii/comlex: complex is data type which is mixed of a real and imaginary number.\n",
    "example: 2+3j,3-4j."
   ]
  },
  {
   "cell_type": "markdown",
   "id": "01cc4fa9",
   "metadata": {},
   "source": [
    "4. What is an expression made up of? What do all expressions do?"
   ]
  },
  {
   "cell_type": "markdown",
   "id": "4b859397",
   "metadata": {},
   "source": [
    "ans:\n",
    "\n",
    "an expression is combination of values,operators,variables and a calling function.\n",
    "\n",
    "Expression evaluate a single value by functioning all the data of its expression."
   ]
  },
  {
   "cell_type": "markdown",
   "id": "e1edeec3",
   "metadata": {},
   "source": [
    "5. This assignment statements, like spam = 10. What is the difference between an\n",
    "expression and a statement?"
   ]
  },
  {
   "cell_type": "markdown",
   "id": "e81a0336",
   "metadata": {},
   "source": [
    "ans:\n",
    "\n",
    "An expression is a combination of value,variable and oprators which can evaluate a new vlaue ,on the other hand statement is an\n",
    "action of command i.e. print(),input().\n",
    "difference between both is one can evaluate a data and another take action on a data."
   ]
  },
  {
   "cell_type": "markdown",
   "id": "0c07fb9a",
   "metadata": {},
   "source": [
    "6. After running the following code, what does the variable bacon contain?"
   ]
  },
  {
   "cell_type": "code",
   "execution_count": 2,
   "id": "f1bdf955",
   "metadata": {},
   "outputs": [
    {
     "data": {
      "text/plain": [
       "23"
      ]
     },
     "execution_count": 2,
     "metadata": {},
     "output_type": "execute_result"
    }
   ],
   "source": [
    "bacon = 22\n",
    "bacon + 1"
   ]
  },
  {
   "cell_type": "markdown",
   "id": "82f681bc",
   "metadata": {},
   "source": [
    "bacon will contain a value of 23."
   ]
  },
  {
   "cell_type": "markdown",
   "id": "278d535b",
   "metadata": {},
   "source": [
    "7. What should the values of the following two terms be?"
   ]
  },
  {
   "cell_type": "code",
   "execution_count": 3,
   "id": "c3b86a52",
   "metadata": {},
   "outputs": [
    {
     "data": {
      "text/plain": [
       "'spamspamspam'"
      ]
     },
     "execution_count": 3,
     "metadata": {},
     "output_type": "execute_result"
    }
   ],
   "source": [
    "'spam'+'spamspam'\n",
    "'spam'*3"
   ]
  },
  {
   "cell_type": "markdown",
   "id": "1ec9f41c",
   "metadata": {},
   "source": [
    "value of the both terms will be 'spamspamspam'"
   ]
  },
  {
   "cell_type": "markdown",
   "id": "12cbadd3",
   "metadata": {},
   "source": [
    "8. Why is eggs a valid variable name while 100 is invalid?"
   ]
  },
  {
   "cell_type": "markdown",
   "id": "ef194288",
   "metadata": {},
   "source": [
    "ans:\n",
    "\n",
    "acoording to rule of naming a variable srting can be consider as a variable name but numeric number can't be consider\n",
    "as a variable name."
   ]
  },
  {
   "cell_type": "markdown",
   "id": "73604baf",
   "metadata": {},
   "source": [
    "9. What three functions can be used to get the integer, floating-point number, or string\n",
    "version of a value?"
   ]
  },
  {
   "cell_type": "markdown",
   "id": "00549357",
   "metadata": {},
   "source": [
    "ans:\n",
    "\n",
    "the int(),float() and string() funtion are used to get integer,floating-point number and string version respectively."
   ]
  },
  {
   "cell_type": "markdown",
   "id": "b1783d06",
   "metadata": {},
   "source": [
    "10. Why does this expression cause an error? How can you fix it?"
   ]
  },
  {
   "cell_type": "markdown",
   "id": "a1bb3c19",
   "metadata": {},
   "source": [
    "ans:\n",
    "\n",
    "This expression causes error, because a string can only concatenate with another string, but there 99 is an integer\n",
    "that's why 99 can't concatenate with strings and cause an error."
   ]
  },
  {
   "cell_type": "markdown",
   "id": "43ffd005",
   "metadata": {},
   "source": [
    "I will fix the error converting 99 in a string by following method:"
   ]
  },
  {
   "cell_type": "code",
   "execution_count": 5,
   "id": "e6611d3d",
   "metadata": {},
   "outputs": [
    {
     "data": {
      "text/plain": [
       "'I have eaten99burritos.'"
      ]
     },
     "execution_count": 5,
     "metadata": {},
     "output_type": "execute_result"
    }
   ],
   "source": [
    "'I have eaten' + '99' + 'burritos.'"
   ]
  },
  {
   "cell_type": "code",
   "execution_count": 6,
   "id": "27f0be50",
   "metadata": {},
   "outputs": [
    {
     "data": {
      "text/plain": [
       "'I have eaten99burritos'"
      ]
     },
     "execution_count": 6,
     "metadata": {},
     "output_type": "execute_result"
    }
   ],
   "source": [
    "'I have eaten' + str(99) + 'burritos'"
   ]
  },
  {
   "cell_type": "markdown",
   "id": "907e3df8",
   "metadata": {},
   "source": [
    "<-----------------------end_of_the_assignment_1_python_basic------------------------------>"
   ]
  },
  {
   "cell_type": "code",
   "execution_count": null,
   "id": "b1893117",
   "metadata": {},
   "outputs": [],
   "source": []
  }
 ],
 "metadata": {
  "kernelspec": {
   "display_name": "Python 3 (ipykernel)",
   "language": "python",
   "name": "python3"
  },
  "language_info": {
   "codemirror_mode": {
    "name": "ipython",
    "version": 3
   },
   "file_extension": ".py",
   "mimetype": "text/x-python",
   "name": "python",
   "nbconvert_exporter": "python",
   "pygments_lexer": "ipython3",
   "version": "3.9.7"
  }
 },
 "nbformat": 4,
 "nbformat_minor": 5
}
