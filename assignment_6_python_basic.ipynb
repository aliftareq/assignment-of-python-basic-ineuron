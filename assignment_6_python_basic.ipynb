{
 "cells": [
  {
   "cell_type": "markdown",
   "id": "70b91d06",
   "metadata": {},
   "source": [
    "# Q1. What are escape characters, and how do you use them?"
   ]
  },
  {
   "cell_type": "markdown",
   "id": "ca5986f4",
   "metadata": {},
   "source": [
    "ans for Q1:\n",
    "\n",
    "The escape characters are:\n",
    "\n",
    "i.   \\'\t  Single Quote\t\n",
    "ii   \\\\\t  Backslash\t\n",
    "iii. \\n\t  New Line\t\n",
    "iv.  \\r\t  Carriage Return\t\n",
    "v.   \\t\t  Tab\t\n",
    "vi.  \\b\t  Backspace\t\n",
    "vii. \\f\t  Form Feed\t\n",
    "viii.\\ooo\tOctal value\t\n",
    "ix.  \\xhh\tHex value"
   ]
  },
  {
   "cell_type": "code",
   "execution_count": 1,
   "id": "75c58c24",
   "metadata": {},
   "outputs": [
    {
     "data": {
      "text/plain": [
       "\"this is goutam's house'\""
      ]
     },
     "execution_count": 1,
     "metadata": {},
     "output_type": "execute_result"
    }
   ],
   "source": [
    "\"this is goutam\\'s house'\""
   ]
  },
  {
   "cell_type": "code",
   "execution_count": 8,
   "id": "c88f02be",
   "metadata": {},
   "outputs": [
    {
     "name": "stdout",
     "output_type": "stream",
     "text": [
      "there will be one \\ backslash\n"
     ]
    }
   ],
   "source": [
    "text = \"there will be one \\\\ backslash\"\n",
    "print(text)"
   ]
  },
  {
   "cell_type": "code",
   "execution_count": 1,
   "id": "9f95c1d4",
   "metadata": {},
   "outputs": [
    {
     "name": "stdout",
     "output_type": "stream",
     "text": [
      "there will be a \n",
      " new line\n"
     ]
    }
   ],
   "source": [
    "text_2 = \"there will be a \\n new line\"\n",
    "print(text_2)"
   ]
  },
  {
   "cell_type": "code",
   "execution_count": 10,
   "id": "eaad01e3",
   "metadata": {},
   "outputs": [
    {
     "name": "stdout",
     "output_type": "stream",
     "text": [
      "apple\tbanana\tdate\tmango\tonion\n"
     ]
    }
   ],
   "source": [
    "text_3 = \"apple\\tbanana\\tdate\\tmango\\tonion\"\n",
    "print(text_3)"
   ]
  },
  {
   "cell_type": "code",
   "execution_count": 16,
   "id": "a4e70a7f",
   "metadata": {},
   "outputs": [
    {
     "name": "stdout",
     "output_type": "stream",
     "text": [
      "how\b are\b you?\n"
     ]
    }
   ],
   "source": [
    "text_4 = \"how\\b are\\b you?\" #delete one character by backspace(\\b)\n",
    "print(text_4)"
   ]
  },
  {
   "cell_type": "markdown",
   "id": "e9f8a542",
   "metadata": {},
   "source": [
    "# Q2. What do the escape characters n and t stand for?"
   ]
  },
  {
   "cell_type": "markdown",
   "id": "a3568dd5",
   "metadata": {},
   "source": [
    "ans for Q2:\n",
    "The escape character n stand for new line and t stand for Tab."
   ]
  },
  {
   "cell_type": "markdown",
   "id": "914242c8",
   "metadata": {},
   "source": [
    "# Q3. What is the way to include backslash characters in a string?"
   ]
  },
  {
   "cell_type": "markdown",
   "id": "07724e49",
   "metadata": {},
   "source": [
    "ans for Q3:\n",
    "\n",
    "the code is shown below:"
   ]
  },
  {
   "cell_type": "code",
   "execution_count": 17,
   "id": "3b28b0a4",
   "metadata": {},
   "outputs": [
    {
     "name": "stdout",
     "output_type": "stream",
     "text": [
      "there will be one \\ backslash\n"
     ]
    }
   ],
   "source": [
    "text = \"there will be one \\\\ backslash\"\n",
    "print(text)"
   ]
  },
  {
   "cell_type": "markdown",
   "id": "9ca0a081",
   "metadata": {},
   "source": [
    "# Q4. The string \"Howl's Moving Castle\" is a correct value. Why isn't the single quote character in the word Howl's not escaped a problem?"
   ]
  },
  {
   "cell_type": "markdown",
   "id": "09539273",
   "metadata": {},
   "source": [
    "ans for Q4:\n",
    "\n",
    "Because there user used (\"\") double quotatiion before and after the string. "
   ]
  },
  {
   "cell_type": "markdown",
   "id": "f1876dc4",
   "metadata": {},
   "source": [
    "# Q5. How do you write a string of newlines if you don't want to use the n character?"
   ]
  },
  {
   "cell_type": "markdown",
   "id": "4648c9c0",
   "metadata": {},
   "source": [
    "ans for Q5:\n",
    "\n",
    "Using (\"\"\"text\"\"\") triple qoutation for multiline string."
   ]
  },
  {
   "cell_type": "markdown",
   "id": "a61f5a75",
   "metadata": {},
   "source": [
    "# Q6. What are the values of the given expressions?"
   ]
  },
  {
   "cell_type": "markdown",
   "id": "8c6f30af",
   "metadata": {},
   "source": [
    "ans for Q6:\n",
    "\n",
    "code for given expression:"
   ]
  },
  {
   "cell_type": "code",
   "execution_count": 19,
   "id": "5d5f88cc",
   "metadata": {},
   "outputs": [
    {
     "data": {
      "text/plain": [
       "'e'"
      ]
     },
     "execution_count": 19,
     "metadata": {},
     "output_type": "execute_result"
    }
   ],
   "source": [
    "'Hello, world!'[1]"
   ]
  },
  {
   "cell_type": "code",
   "execution_count": 21,
   "id": "583a76d0",
   "metadata": {},
   "outputs": [
    {
     "data": {
      "text/plain": [
       "'Hello'"
      ]
     },
     "execution_count": 21,
     "metadata": {},
     "output_type": "execute_result"
    }
   ],
   "source": [
    "'Hello, world!'[0:5]"
   ]
  },
  {
   "cell_type": "code",
   "execution_count": 22,
   "id": "2b9714c8",
   "metadata": {},
   "outputs": [
    {
     "data": {
      "text/plain": [
       "'Hello'"
      ]
     },
     "execution_count": 22,
     "metadata": {},
     "output_type": "execute_result"
    }
   ],
   "source": [
    "'Hello, world!'[:5]"
   ]
  },
  {
   "cell_type": "code",
   "execution_count": 23,
   "id": "02b3f241",
   "metadata": {},
   "outputs": [
    {
     "data": {
      "text/plain": [
       "'lo, world!'"
      ]
     },
     "execution_count": 23,
     "metadata": {},
     "output_type": "execute_result"
    }
   ],
   "source": [
    "'Hello, world!'[3:]"
   ]
  },
  {
   "cell_type": "markdown",
   "id": "353162aa",
   "metadata": {},
   "source": [
    "# Q7. What are the values of the following expressions?"
   ]
  },
  {
   "cell_type": "markdown",
   "id": "e8fa0925",
   "metadata": {},
   "source": [
    "ans for Q7:\n",
    "\n",
    "code for given expression:"
   ]
  },
  {
   "cell_type": "code",
   "execution_count": 24,
   "id": "afa2cab2",
   "metadata": {},
   "outputs": [
    {
     "data": {
      "text/plain": [
       "'HELLO'"
      ]
     },
     "execution_count": 24,
     "metadata": {},
     "output_type": "execute_result"
    }
   ],
   "source": [
    "'Hello'.upper()"
   ]
  },
  {
   "cell_type": "code",
   "execution_count": 25,
   "id": "9277e4ca",
   "metadata": {},
   "outputs": [
    {
     "data": {
      "text/plain": [
       "True"
      ]
     },
     "execution_count": 25,
     "metadata": {},
     "output_type": "execute_result"
    }
   ],
   "source": [
    "'Hello'.upper().isupper()"
   ]
  },
  {
   "cell_type": "code",
   "execution_count": 26,
   "id": "4230025c",
   "metadata": {},
   "outputs": [
    {
     "data": {
      "text/plain": [
       "'hello'"
      ]
     },
     "execution_count": 26,
     "metadata": {},
     "output_type": "execute_result"
    }
   ],
   "source": [
    "'Hello'.upper().lower()"
   ]
  },
  {
   "cell_type": "markdown",
   "id": "da087217",
   "metadata": {},
   "source": [
    "# Q8. What are the values of the following expressions?"
   ]
  },
  {
   "cell_type": "markdown",
   "id": "b4222261",
   "metadata": {},
   "source": [
    "ans for Q8:\n",
    "\n",
    "code for given expression:"
   ]
  },
  {
   "cell_type": "code",
   "execution_count": 27,
   "id": "d1823d1b",
   "metadata": {},
   "outputs": [
    {
     "data": {
      "text/plain": [
       "['Remember,', 'remember,', 'the', 'fifth', 'of', 'July.']"
      ]
     },
     "execution_count": 27,
     "metadata": {},
     "output_type": "execute_result"
    }
   ],
   "source": [
    "'Remember, remember, the fifth of July.'.split()"
   ]
  },
  {
   "cell_type": "code",
   "execution_count": 28,
   "id": "d7c86cfc",
   "metadata": {},
   "outputs": [
    {
     "data": {
      "text/plain": [
       "'There-can-only-one.'"
      ]
     },
     "execution_count": 28,
     "metadata": {},
     "output_type": "execute_result"
    }
   ],
   "source": [
    "'-'.join('There can only one.'.split())"
   ]
  },
  {
   "cell_type": "markdown",
   "id": "fb25dfaf",
   "metadata": {},
   "source": [
    "# Q9.What are the methods for right-justifying, left-justifying, and centering a string?"
   ]
  },
  {
   "cell_type": "markdown",
   "id": "67402318",
   "metadata": {},
   "source": [
    "ans for Q9:\n",
    "\n",
    "string.rjust(),string.ljust(),string.center() the methods respectively work for mention manipulation action."
   ]
  },
  {
   "cell_type": "markdown",
   "id": "092ab3bc",
   "metadata": {},
   "source": [
    "# Q10. What is the best way to remove whitespace characters from the start or end?"
   ]
  },
  {
   "cell_type": "markdown",
   "id": "398d2937",
   "metadata": {},
   "source": [
    "ans for Q10:\n",
    "\n",
    "string.lstrip() is the function for removing whitespace character."
   ]
  }
 ],
 "metadata": {
  "kernelspec": {
   "display_name": "Python 3 (ipykernel)",
   "language": "python",
   "name": "python3"
  },
  "language_info": {
   "codemirror_mode": {
    "name": "ipython",
    "version": 3
   },
   "file_extension": ".py",
   "mimetype": "text/x-python",
   "name": "python",
   "nbconvert_exporter": "python",
   "pygments_lexer": "ipython3",
   "version": "3.9.7"
  }
 },
 "nbformat": 4,
 "nbformat_minor": 5
}
