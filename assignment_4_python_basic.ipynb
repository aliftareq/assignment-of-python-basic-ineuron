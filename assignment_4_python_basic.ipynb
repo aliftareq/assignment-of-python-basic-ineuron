{
 "cells": [
  {
   "cell_type": "markdown",
   "id": "785f79c3",
   "metadata": {},
   "source": [
    "# Q1. What exactly is []?"
   ]
  },
  {
   "cell_type": "markdown",
   "id": "788a8bf4",
   "metadata": {},
   "source": [
    "ans:\n",
    "    \n",
    "This sign is called square bracket, it is mainly used in list data type to store too many datas\n",
    "together, it is also use to access and slicing the list or string data."
   ]
  },
  {
   "cell_type": "markdown",
   "id": "1c535934",
   "metadata": {},
   "source": [
    "# Q2. In a list of values stored in a variable called spam, how would you assign the value &#39;hello&#39; as the third value? (Assume [2,4,6,8,10] are in spam.)"
   ]
  },
  {
   "cell_type": "markdown",
   "id": "ebcb1d85",
   "metadata": {},
   "source": [
    "ans:\n",
    "\n",
    "assign 'hello' in the list a third value shown below with code:"
   ]
  },
  {
   "cell_type": "code",
   "execution_count": 6,
   "id": "8e229f16",
   "metadata": {},
   "outputs": [],
   "source": [
    "spam = [2,4,6,8,10]"
   ]
  },
  {
   "cell_type": "code",
   "execution_count": 7,
   "id": "d19f9ea5",
   "metadata": {},
   "outputs": [],
   "source": [
    "spam.insert(2,'hello')"
   ]
  },
  {
   "cell_type": "code",
   "execution_count": 8,
   "id": "34a3eda2",
   "metadata": {},
   "outputs": [
    {
     "data": {
      "text/plain": [
       "[2, 4, 'hello', 6, 8, 10]"
      ]
     },
     "execution_count": 8,
     "metadata": {},
     "output_type": "execute_result"
    }
   ],
   "source": [
    "spam"
   ]
  },
  {
   "cell_type": "markdown",
   "id": "598a37d4",
   "metadata": {},
   "source": [
    "# Let's pretend the spam includes the list['a','b','c','d'] for the next three queries."
   ]
  },
  {
   "cell_type": "code",
   "execution_count": 10,
   "id": "d71a9118",
   "metadata": {},
   "outputs": [],
   "source": [
    "spam = [2,4,6,8,10]"
   ]
  },
  {
   "cell_type": "code",
   "execution_count": 11,
   "id": "4c1fff27",
   "metadata": {},
   "outputs": [],
   "source": [
    "spam.append(['a','b','c','d'])"
   ]
  },
  {
   "cell_type": "code",
   "execution_count": 12,
   "id": "52aab8ff",
   "metadata": {},
   "outputs": [
    {
     "data": {
      "text/plain": [
       "[2, 4, 6, 8, 10, ['a', 'b', 'c', 'd']]"
      ]
     },
     "execution_count": 12,
     "metadata": {},
     "output_type": "execute_result"
    }
   ],
   "source": [
    "spam"
   ]
  },
  {
   "cell_type": "markdown",
   "id": "8b6d8ed1",
   "metadata": {},
   "source": [
    "# Q3. What is the value of spam[int(int('3' * 2) / 11)]?"
   ]
  },
  {
   "cell_type": "markdown",
   "id": "fdc80e2f",
   "metadata": {},
   "source": [
    "ans for Q3:\n",
    "\n",
    "The answer will be 8, it is shown with code below:"
   ]
  },
  {
   "cell_type": "code",
   "execution_count": 13,
   "id": "e9a6c15c",
   "metadata": {},
   "outputs": [
    {
     "data": {
      "text/plain": [
       "[2, 4, 6, 8, 10, ['a', 'b', 'c', 'd']]"
      ]
     },
     "execution_count": 13,
     "metadata": {},
     "output_type": "execute_result"
    }
   ],
   "source": [
    "spam"
   ]
  },
  {
   "cell_type": "code",
   "execution_count": 14,
   "id": "e9ae5e82",
   "metadata": {},
   "outputs": [
    {
     "data": {
      "text/plain": [
       "8"
      ]
     },
     "execution_count": 14,
     "metadata": {},
     "output_type": "execute_result"
    }
   ],
   "source": [
    "spam[int(int('3' * 2) / 11)]"
   ]
  },
  {
   "cell_type": "markdown",
   "id": "eff5adc3",
   "metadata": {},
   "source": [
    "# Q4. What is the value of spam[-1]?"
   ]
  },
  {
   "cell_type": "markdown",
   "id": "f34938d2",
   "metadata": {},
   "source": [
    "ans for Q4:\n",
    "\n",
    "The answer will be ['a', 'b', 'c', 'd']. It is shown with code below:"
   ]
  },
  {
   "cell_type": "code",
   "execution_count": 15,
   "id": "51ee7a90",
   "metadata": {},
   "outputs": [
    {
     "data": {
      "text/plain": [
       "[2, 4, 6, 8, 10, ['a', 'b', 'c', 'd']]"
      ]
     },
     "execution_count": 15,
     "metadata": {},
     "output_type": "execute_result"
    }
   ],
   "source": [
    "spam"
   ]
  },
  {
   "cell_type": "code",
   "execution_count": 16,
   "id": "ae460551",
   "metadata": {},
   "outputs": [
    {
     "data": {
      "text/plain": [
       "['a', 'b', 'c', 'd']"
      ]
     },
     "execution_count": 16,
     "metadata": {},
     "output_type": "execute_result"
    }
   ],
   "source": [
    "spam[-1]"
   ]
  },
  {
   "cell_type": "markdown",
   "id": "b0c7f7bf",
   "metadata": {},
   "source": [
    "# Q5. What is the value of spam[:2]?"
   ]
  },
  {
   "cell_type": "markdown",
   "id": "933937b7",
   "metadata": {},
   "source": [
    "ans for Q5:\n",
    "\n",
    "The answer is [2,4]. It is shown with code below:"
   ]
  },
  {
   "cell_type": "code",
   "execution_count": 17,
   "id": "ae212dd0",
   "metadata": {},
   "outputs": [
    {
     "data": {
      "text/plain": [
       "[2, 4, 6, 8, 10, ['a', 'b', 'c', 'd']]"
      ]
     },
     "execution_count": 17,
     "metadata": {},
     "output_type": "execute_result"
    }
   ],
   "source": [
    "spam"
   ]
  },
  {
   "cell_type": "code",
   "execution_count": 18,
   "id": "811c0092",
   "metadata": {},
   "outputs": [
    {
     "data": {
      "text/plain": [
       "[2, 4]"
      ]
     },
     "execution_count": 18,
     "metadata": {},
     "output_type": "execute_result"
    }
   ],
   "source": [
    "spam[0:2]"
   ]
  },
  {
   "cell_type": "markdown",
   "id": "81b39dc3",
   "metadata": {},
   "source": [
    "# Let's pretend bacon has the list [3.14,'cat',11,'cat',True] for the next questions."
   ]
  },
  {
   "cell_type": "code",
   "execution_count": 24,
   "id": "de708ae0",
   "metadata": {},
   "outputs": [],
   "source": [
    "bacon = [3.14,'cat',11,'cat',True]"
   ]
  },
  {
   "cell_type": "code",
   "execution_count": 25,
   "id": "0b83b690",
   "metadata": {},
   "outputs": [
    {
     "data": {
      "text/plain": [
       "[3.14, 'cat', 11, 'cat', True]"
      ]
     },
     "execution_count": 25,
     "metadata": {},
     "output_type": "execute_result"
    }
   ],
   "source": [
    "bacon"
   ]
  },
  {
   "cell_type": "markdown",
   "id": "1f341bb4",
   "metadata": {},
   "source": [
    "# Q6. What is the value of bacon.index('cat')?"
   ]
  },
  {
   "cell_type": "markdown",
   "id": "1bb60b28",
   "metadata": {},
   "source": [
    "ans for Q6:\n",
    "\n",
    "index for cat in bacon is 1. It is shown below with code:"
   ]
  },
  {
   "cell_type": "code",
   "execution_count": 26,
   "id": "cafda4c9",
   "metadata": {},
   "outputs": [
    {
     "data": {
      "text/plain": [
       "[3.14, 'cat', 11, 'cat', True]"
      ]
     },
     "execution_count": 26,
     "metadata": {},
     "output_type": "execute_result"
    }
   ],
   "source": [
    "bacon"
   ]
  },
  {
   "cell_type": "code",
   "execution_count": 27,
   "id": "d200f00e",
   "metadata": {},
   "outputs": [
    {
     "data": {
      "text/plain": [
       "1"
      ]
     },
     "execution_count": 27,
     "metadata": {},
     "output_type": "execute_result"
    }
   ],
   "source": [
    "bacon.index('cat')"
   ]
  },
  {
   "cell_type": "markdown",
   "id": "4d6f077b",
   "metadata": {},
   "source": [
    "# Q7. How does bacon.append(99) change the look of the list value in bacon?"
   ]
  },
  {
   "cell_type": "markdown",
   "id": "fa2aa7b2",
   "metadata": {},
   "source": [
    "ans for Q7:"
   ]
  },
  {
   "cell_type": "code",
   "execution_count": 28,
   "id": "9d661e18",
   "metadata": {},
   "outputs": [
    {
     "data": {
      "text/plain": [
       "[3.14, 'cat', 11, 'cat', True]"
      ]
     },
     "execution_count": 28,
     "metadata": {},
     "output_type": "execute_result"
    }
   ],
   "source": [
    "bacon"
   ]
  },
  {
   "cell_type": "code",
   "execution_count": 29,
   "id": "a4478ad3",
   "metadata": {},
   "outputs": [],
   "source": [
    "bacon.append(99)"
   ]
  },
  {
   "cell_type": "code",
   "execution_count": 30,
   "id": "b6445413",
   "metadata": {},
   "outputs": [
    {
     "data": {
      "text/plain": [
       "[3.14, 'cat', 11, 'cat', True, 99]"
      ]
     },
     "execution_count": 30,
     "metadata": {},
     "output_type": "execute_result"
    }
   ],
   "source": [
    "bacon"
   ]
  },
  {
   "cell_type": "markdown",
   "id": "17b30702",
   "metadata": {},
   "source": [
    "# Q8. How does bacon.remove('cat') change the look of the list in bacon?"
   ]
  },
  {
   "cell_type": "markdown",
   "id": "37edd4f6",
   "metadata": {},
   "source": [
    "ans for Q8:"
   ]
  },
  {
   "cell_type": "code",
   "execution_count": 31,
   "id": "db11e94b",
   "metadata": {},
   "outputs": [
    {
     "data": {
      "text/plain": [
       "[3.14, 'cat', 11, 'cat', True, 99]"
      ]
     },
     "execution_count": 31,
     "metadata": {},
     "output_type": "execute_result"
    }
   ],
   "source": [
    "bacon"
   ]
  },
  {
   "cell_type": "code",
   "execution_count": 32,
   "id": "a062ec1b",
   "metadata": {},
   "outputs": [],
   "source": [
    "bacon.remove('cat')"
   ]
  },
  {
   "cell_type": "code",
   "execution_count": 33,
   "id": "9cdf37e2",
   "metadata": {},
   "outputs": [
    {
     "data": {
      "text/plain": [
       "[3.14, 11, 'cat', True, 99]"
      ]
     },
     "execution_count": 33,
     "metadata": {},
     "output_type": "execute_result"
    }
   ],
   "source": [
    "bacon"
   ]
  },
  {
   "cell_type": "markdown",
   "id": "52c5696a",
   "metadata": {},
   "source": [
    "# Q9. What are the list concatenation and list replication operators?"
   ]
  },
  {
   "cell_type": "markdown",
   "id": "d0ff65b8",
   "metadata": {},
   "source": [
    "ans for Q9:\n",
    "\n",
    "list concatenation is adding two different list with each another. list replication operators\n",
    "is asterisk ('*')."
   ]
  },
  {
   "cell_type": "markdown",
   "id": "45a0dc85",
   "metadata": {},
   "source": [
    "example for list concatenation and list replication:"
   ]
  },
  {
   "cell_type": "code",
   "execution_count": 36,
   "id": "b9fc3ebf",
   "metadata": {},
   "outputs": [
    {
     "data": {
      "text/plain": [
       "[1, 2, 3, 4, 'a', 'b', 'c', 'd']"
      ]
     },
     "execution_count": 36,
     "metadata": {},
     "output_type": "execute_result"
    }
   ],
   "source": [
    "#list concatenation\n",
    "l1 =[1,2,3,4]\n",
    "l2 =['a','b','c','d']\n",
    "\n",
    "l1 + l2"
   ]
  },
  {
   "cell_type": "code",
   "execution_count": 37,
   "id": "0a44675e",
   "metadata": {},
   "outputs": [
    {
     "data": {
      "text/plain": [
       "[1, 2, 3, 4, 1, 2, 3, 4, 1, 2, 3, 4]"
      ]
     },
     "execution_count": 37,
     "metadata": {},
     "output_type": "execute_result"
    }
   ],
   "source": [
    "#list replication\n",
    "l1*3"
   ]
  },
  {
   "cell_type": "markdown",
   "id": "18f5446c",
   "metadata": {},
   "source": [
    "# Q10. What is difference between the list methods append() and insert()?"
   ]
  },
  {
   "cell_type": "markdown",
   "id": "7ff01d67",
   "metadata": {},
   "source": [
    "ans for Q 10:\n",
    "\n",
    "differnce between list.append() and list.insert() are:\n",
    "\n",
    "list.append() insert a data in the last index of that list (in index no. -1),on the other hand list.insert() can insert data in any index that user wants. "
   ]
  },
  {
   "cell_type": "markdown",
   "id": "cb8685ea",
   "metadata": {},
   "source": [
    "# Q11. What are the two methods for removing items from a list?"
   ]
  },
  {
   "cell_type": "markdown",
   "id": "fa303acd",
   "metadata": {},
   "source": [
    "ans for Q11:\n",
    "\n",
    "there are Two method for removing item from list.\n",
    "\n",
    "the methods of removing items from a list are:\n",
    "\n",
    "i/ list.remove()\n",
    "\n",
    "ii/list.pop()"
   ]
  },
  {
   "cell_type": "markdown",
   "id": "174821d4",
   "metadata": {},
   "source": [
    "# Q12. Describe how list values and string values are identical."
   ]
  },
  {
   "cell_type": "markdown",
   "id": "287cbb96",
   "metadata": {},
   "source": [
    "ans for Q12:\n",
    "\n",
    "The list and string values are identiacl because in both cases item of the both string and list can be acces by items indexes. Also both string and list are able to store data,both are sequential and able slicing its data"
   ]
  },
  {
   "cell_type": "markdown",
   "id": "749cbe38",
   "metadata": {},
   "source": [
    "# Q13. What's the difference between tuples and lists?"
   ]
  },
  {
   "cell_type": "markdown",
   "id": "7a6729b5",
   "metadata": {},
   "source": [
    "ans for Q13:\n",
    "\n",
    "the differences between tuple and list are:\n",
    "\n",
    "i/ List are mutable but tuple are immutable.\n",
    "\n",
    "ii/ List are ordered but tuple is un-ordered.\n",
    "\n",
    "iii/list can be manipulated but tuple can't be manipulated."
   ]
  },
  {
   "cell_type": "markdown",
   "id": "6693a19a",
   "metadata": {},
   "source": [
    "# Q14. How do you type a tuple value that only contains the integer 42?"
   ]
  },
  {
   "cell_type": "markdown",
   "id": "67dfc897",
   "metadata": {},
   "source": [
    "ans for Q14:"
   ]
  },
  {
   "cell_type": "code",
   "execution_count": 41,
   "id": "167870f1",
   "metadata": {},
   "outputs": [],
   "source": [
    "t = (42)"
   ]
  },
  {
   "cell_type": "code",
   "execution_count": 42,
   "id": "21ca15c4",
   "metadata": {},
   "outputs": [
    {
     "data": {
      "text/plain": [
       "42"
      ]
     },
     "execution_count": 42,
     "metadata": {},
     "output_type": "execute_result"
    }
   ],
   "source": [
    "t"
   ]
  },
  {
   "cell_type": "markdown",
   "id": "193bb346",
   "metadata": {},
   "source": [
    "# Q15. How do you get a list value's tuple form? How do you get a tuple value's list form?"
   ]
  },
  {
   "cell_type": "markdown",
   "id": "f96824f9",
   "metadata": {},
   "source": [
    "ans for Q15:\n",
    "\n",
    "I will get a list value in tuple form or tuple values in list form by typecasting.\n",
    "\n",
    "example are:"
   ]
  },
  {
   "cell_type": "code",
   "execution_count": 43,
   "id": "c3eaf296",
   "metadata": {},
   "outputs": [],
   "source": [
    "#converting a tuple in list\n",
    "t= (1,2,3,'a','b')\n",
    "l = list(t)"
   ]
  },
  {
   "cell_type": "code",
   "execution_count": 44,
   "id": "e6fcc4cf",
   "metadata": {},
   "outputs": [
    {
     "data": {
      "text/plain": [
       "[1, 2, 3, 'a', 'b']"
      ]
     },
     "execution_count": 44,
     "metadata": {},
     "output_type": "execute_result"
    }
   ],
   "source": [
    "l"
   ]
  },
  {
   "cell_type": "code",
   "execution_count": 47,
   "id": "82f8ce74",
   "metadata": {},
   "outputs": [],
   "source": [
    "#converting a list in a tuple form\n",
    "L = ['alif','data','science']\n",
    "T = tuple(L)"
   ]
  },
  {
   "cell_type": "code",
   "execution_count": 48,
   "id": "0573b991",
   "metadata": {},
   "outputs": [
    {
     "data": {
      "text/plain": [
       "('alif', 'data', 'science')"
      ]
     },
     "execution_count": 48,
     "metadata": {},
     "output_type": "execute_result"
    }
   ],
   "source": [
    "T"
   ]
  },
  {
   "cell_type": "markdown",
   "id": "b8677844",
   "metadata": {},
   "source": [
    "# Q16. Variables that \"contain\" list values are not necessarily lists themselves. Instead, what do they contain?"
   ]
  },
  {
   "cell_type": "markdown",
   "id": "c5fbef1b",
   "metadata": {},
   "source": [
    "ans for Q16:\n",
    "\n",
    "they contain references of its own value."
   ]
  },
  {
   "cell_type": "markdown",
   "id": "6c6663a4",
   "metadata": {},
   "source": [
    "# Q17. How do you distinguish between copy.copy() and copy.deepcopy()?"
   ]
  },
  {
   "cell_type": "markdown",
   "id": "c60ee87f",
   "metadata": {},
   "source": [
    "ans for Q17:\n",
    "\n",
    "in copy.copy() or shallow copy and deep copy both creates different memory loaction of list or variable.\n",
    "but in deep copy it \"𝐢𝐧𝐬𝐞𝐫𝐭 𝐜𝐨𝐩𝐢𝐞𝐬\" in object from origin file on the other hand copy.copy() \"𝐢𝐧𝐬𝐞𝐫𝐭 𝐫𝐞𝐟𝐞𝐫𝐞𝐧𝐜𝐞𝐬\" in object from the origin file.\n"
   ]
  },
  {
   "cell_type": "markdown",
   "id": "d5897637",
   "metadata": {},
   "source": [
    "<------------------end_of_assignment_4--------------------->"
   ]
  }
 ],
 "metadata": {
  "kernelspec": {
   "display_name": "Python 3 (ipykernel)",
   "language": "python",
   "name": "python3"
  },
  "language_info": {
   "codemirror_mode": {
    "name": "ipython",
    "version": 3
   },
   "file_extension": ".py",
   "mimetype": "text/x-python",
   "name": "python",
   "nbconvert_exporter": "python",
   "pygments_lexer": "ipython3",
   "version": "3.9.7"
  }
 },
 "nbformat": 4,
 "nbformat_minor": 5
}
