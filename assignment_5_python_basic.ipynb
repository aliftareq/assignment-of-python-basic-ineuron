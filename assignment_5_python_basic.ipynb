{
 "cells": [
  {
   "cell_type": "markdown",
   "id": "59d8b522",
   "metadata": {},
   "source": [
    "# Q1. What does an empty dictionary's code look like?"
   ]
  },
  {
   "cell_type": "markdown",
   "id": "5cdd10c4",
   "metadata": {},
   "source": [
    "ans for Q1:\n",
    "\n",
    "an empty dictionarys code look like {}."
   ]
  },
  {
   "cell_type": "code",
   "execution_count": 4,
   "id": "2a4fdf0a",
   "metadata": {},
   "outputs": [],
   "source": [
    "d = {}"
   ]
  },
  {
   "cell_type": "code",
   "execution_count": 5,
   "id": "c925b424",
   "metadata": {},
   "outputs": [
    {
     "data": {
      "text/plain": [
       "dict"
      ]
     },
     "execution_count": 5,
     "metadata": {},
     "output_type": "execute_result"
    }
   ],
   "source": [
    "type(d)"
   ]
  },
  {
   "cell_type": "markdown",
   "id": "04cd419e",
   "metadata": {},
   "source": [
    "# Q2. What is the value of a dictionary value with the key 'foo' and the value 42?"
   ]
  },
  {
   "cell_type": "markdown",
   "id": "99786a59",
   "metadata": {},
   "source": [
    "ans for Q2:"
   ]
  },
  {
   "cell_type": "markdown",
   "id": "a7226b9b",
   "metadata": {},
   "source": [
    "dict = {'foo':42}"
   ]
  },
  {
   "cell_type": "code",
   "execution_count": 7,
   "id": "4c98e420",
   "metadata": {},
   "outputs": [
    {
     "data": {
      "text/plain": [
       "{'foo': 42}"
      ]
     },
     "execution_count": 7,
     "metadata": {},
     "output_type": "execute_result"
    }
   ],
   "source": [
    "dict"
   ]
  },
  {
   "cell_type": "markdown",
   "id": "e41181fe",
   "metadata": {},
   "source": [
    "# Q3. What is the most significant distinction between a dictionary and a list?"
   ]
  },
  {
   "cell_type": "markdown",
   "id": "93359d43",
   "metadata": {},
   "source": [
    "ans for Q3:\n",
    "\n",
    "the values or items of dictionary only can be access by its keys, but items of list is access by its indexes, that's difference between dictionay and list."
   ]
  },
  {
   "cell_type": "markdown",
   "id": "f5449f2a",
   "metadata": {},
   "source": [
    "# Q4. What happens if you try to access spam['foo'] if spam is {'bar': 100}?"
   ]
  },
  {
   "cell_type": "markdown",
   "id": "b2447988",
   "metadata": {},
   "source": [
    "ans for Q4:\n",
    "\n",
    "It will give me an error."
   ]
  },
  {
   "cell_type": "code",
   "execution_count": 1,
   "id": "daa3a215",
   "metadata": {},
   "outputs": [],
   "source": [
    "spam = {'bar':100}"
   ]
  },
  {
   "cell_type": "code",
   "execution_count": 2,
   "id": "c6a76195",
   "metadata": {},
   "outputs": [
    {
     "ename": "KeyError",
     "evalue": "'foo'",
     "output_type": "error",
     "traceback": [
      "\u001b[1;31m---------------------------------------------------------------------------\u001b[0m",
      "\u001b[1;31mKeyError\u001b[0m                                  Traceback (most recent call last)",
      "\u001b[1;32m~\\AppData\\Local\\Temp/ipykernel_15320/3999281786.py\u001b[0m in \u001b[0;36m<module>\u001b[1;34m\u001b[0m\n\u001b[1;32m----> 1\u001b[1;33m \u001b[0mspam\u001b[0m\u001b[1;33m[\u001b[0m\u001b[1;34m'foo'\u001b[0m\u001b[1;33m]\u001b[0m\u001b[1;33m\u001b[0m\u001b[1;33m\u001b[0m\u001b[0m\n\u001b[0m",
      "\u001b[1;31mKeyError\u001b[0m: 'foo'"
     ]
    }
   ],
   "source": [
    "spam['foo']"
   ]
  },
  {
   "cell_type": "markdown",
   "id": "3671d764",
   "metadata": {},
   "source": [
    "# Q5. If a dictionary is stored in spam, what is the difference between the expressions 'cat' in spam and 'cat' in spam.keys()?"
   ]
  },
  {
   "cell_type": "markdown",
   "id": "8176ef3b",
   "metadata": {},
   "source": [
    "ans for Q5.\n",
    "\n",
    "No differnce. Both the statement check whether there is key or not by name 'cat' in spam"
   ]
  },
  {
   "cell_type": "markdown",
   "id": "46b16eb9",
   "metadata": {},
   "source": [
    "# Q6. If a dictionary is stored in spam, what is the difference between the expressions 'cat' in spam and 'cat' in spam.values()?"
   ]
  },
  {
   "cell_type": "markdown",
   "id": "173216f2",
   "metadata": {},
   "source": [
    "ans for Q6:\n",
    "\n",
    "expression 'cat' in spam check whether the 'cat' is available as key or not in spam and return the value of 'cat' key ; where 'cat' in spam.values() check whether there is values or not by name 'cat' in spam. "
   ]
  },
  {
   "cell_type": "markdown",
   "id": "12aea0eb",
   "metadata": {},
   "source": [
    "# Q7. What is a shortcut for the following code?                                                                                                                                      "
   ]
  },
  {
   "cell_type": "markdown",
   "id": "c819d0cc",
   "metadata": {},
   "source": [
    "# if 'color' not in spam:"
   ]
  },
  {
   "cell_type": "markdown",
   "id": "ca540f04",
   "metadata": {},
   "source": [
    "# spam['color'] = 'black'"
   ]
  },
  {
   "cell_type": "markdown",
   "id": "f72971b4",
   "metadata": {},
   "source": [
    "ans for Q7:\n",
    "\n",
    "Alternate code:\n",
    "\n",
    "spam.setdefault('color','black')"
   ]
  },
  {
   "cell_type": "markdown",
   "id": "323632ed",
   "metadata": {},
   "source": [
    "# Q8. How do you define \"pretty print\" dictionary values using which module and function?"
   ]
  },
  {
   "cell_type": "markdown",
   "id": "e280e5b5",
   "metadata": {},
   "source": [
    "answer for Q8:\n",
    "\n",
    "pprint.pprint()"
   ]
  },
  {
   "cell_type": "code",
   "execution_count": null,
   "id": "2323095b",
   "metadata": {},
   "outputs": [],
   "source": []
  }
 ],
 "metadata": {
  "kernelspec": {
   "display_name": "Python 3 (ipykernel)",
   "language": "python",
   "name": "python3"
  },
  "language_info": {
   "codemirror_mode": {
    "name": "ipython",
    "version": 3
   },
   "file_extension": ".py",
   "mimetype": "text/x-python",
   "name": "python",
   "nbconvert_exporter": "python",
   "pygments_lexer": "ipython3",
   "version": "3.9.7"
  }
 },
 "nbformat": 4,
 "nbformat_minor": 5
}
