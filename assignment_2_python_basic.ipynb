{
 "cells": [
  {
   "cell_type": "markdown",
   "id": "e403510b",
   "metadata": {},
   "source": [
    "# Q1.What are the two values of the Boolean data type? How do you write them?"
   ]
  },
  {
   "cell_type": "markdown",
   "id": "4cdc9ade",
   "metadata": {},
   "source": [
    "ans:\n",
    "\n",
    "The two values of Boolean data type are True and False."
   ]
  },
  {
   "cell_type": "markdown",
   "id": "4c06319a",
   "metadata": {},
   "source": [
    "I will write them in following way:"
   ]
  },
  {
   "cell_type": "code",
   "execution_count": 1,
   "id": "93a157bd",
   "metadata": {},
   "outputs": [],
   "source": [
    "variable_1 = True\n",
    "variable_2 = False"
   ]
  },
  {
   "cell_type": "markdown",
   "id": "aac04b43",
   "metadata": {},
   "source": [
    "# Q2. What are the three different types of Boolean operators?"
   ]
  },
  {
   "cell_type": "markdown",
   "id": "75fb58bb",
   "metadata": {},
   "source": [
    "ans:\n",
    "\n",
    "The three different type of Boolean operators are: and,or,not"
   ]
  },
  {
   "cell_type": "markdown",
   "id": "4689e61b",
   "metadata": {},
   "source": [
    "# Q3. Make a list of each Boolean operator's truth tables (i.e. every possible combination of Boolean values for the operator and what it evaluate )."
   ]
  },
  {
   "cell_type": "markdown",
   "id": "ef0e212f",
   "metadata": {},
   "source": [
    "ans:\n",
    "\n",
    "i/   True and True  = True\n",
    "\n",
    "ii/  True and False = False\n",
    "\n",
    "iii/ True or True   = True\n",
    "\n",
    "iv/  True or False  = True\n",
    "\n",
    "v/   not True       = False\n",
    "\n",
    "vi/  not False      = True"
   ]
  },
  {
   "cell_type": "markdown",
   "id": "f43fefe7",
   "metadata": {},
   "source": [
    "# Q4. What are the values of the following expressions?"
   ]
  },
  {
   "cell_type": "markdown",
   "id": "feb85064",
   "metadata": {},
   "source": [
    "ans:\n",
    "\n",
    "The values of following expression are shown below with codes:"
   ]
  },
  {
   "cell_type": "code",
   "execution_count": 8,
   "id": "37b2730a",
   "metadata": {},
   "outputs": [
    {
     "data": {
      "text/plain": [
       "False"
      ]
     },
     "execution_count": 8,
     "metadata": {},
     "output_type": "execute_result"
    }
   ],
   "source": [
    "(5 > 4) and (3 == 5)"
   ]
  },
  {
   "cell_type": "code",
   "execution_count": 9,
   "id": "e4b9ff44",
   "metadata": {},
   "outputs": [
    {
     "data": {
      "text/plain": [
       "False"
      ]
     },
     "execution_count": 9,
     "metadata": {},
     "output_type": "execute_result"
    }
   ],
   "source": [
    "not (5 > 4)"
   ]
  },
  {
   "cell_type": "code",
   "execution_count": 10,
   "id": "81e9bacd",
   "metadata": {},
   "outputs": [
    {
     "data": {
      "text/plain": [
       "True"
      ]
     },
     "execution_count": 10,
     "metadata": {},
     "output_type": "execute_result"
    }
   ],
   "source": [
    "(5 > 4) or (3 == 5)"
   ]
  },
  {
   "cell_type": "code",
   "execution_count": 11,
   "id": "5a48b621",
   "metadata": {},
   "outputs": [
    {
     "data": {
      "text/plain": [
       "False"
      ]
     },
     "execution_count": 11,
     "metadata": {},
     "output_type": "execute_result"
    }
   ],
   "source": [
    "not ((5 > 4) or (3 == 5))"
   ]
  },
  {
   "cell_type": "code",
   "execution_count": 12,
   "id": "d848b8c3",
   "metadata": {},
   "outputs": [
    {
     "data": {
      "text/plain": [
       "False"
      ]
     },
     "execution_count": 12,
     "metadata": {},
     "output_type": "execute_result"
    }
   ],
   "source": [
    "(True and True) and (True == False)"
   ]
  },
  {
   "cell_type": "code",
   "execution_count": 13,
   "id": "1a3aedde",
   "metadata": {},
   "outputs": [
    {
     "data": {
      "text/plain": [
       "True"
      ]
     },
     "execution_count": 13,
     "metadata": {},
     "output_type": "execute_result"
    }
   ],
   "source": [
    "(not False) or (not True)"
   ]
  },
  {
   "cell_type": "markdown",
   "id": "bbfad2c4",
   "metadata": {},
   "source": [
    "# Q5. What are the six comparison operators?"
   ]
  },
  {
   "cell_type": "markdown",
   "id": "14baf1af",
   "metadata": {},
   "source": [
    "ans:\n",
    "\n",
    "The six comparison operators are: >,<,>=,<=,==,!="
   ]
  },
  {
   "cell_type": "markdown",
   "id": "8e960b52",
   "metadata": {},
   "source": [
    "# Q6. How do you tell the difference between the equal to and assignment operators?Describe a condition and when you would use one."
   ]
  },
  {
   "cell_type": "markdown",
   "id": "5044877f",
   "metadata": {},
   "source": [
    "ans:\n",
    "\n",
    "The difference between equal to(==) and assignment operator (=) is both oprators used in two different\n",
    "ways, assignment operator(=) is use to assign a value in a variable and equal to(==) operator is use to check whether two comparisonal values are equal or not.\n",
    "\n",
    "The conditions are shown below:"
   ]
  },
  {
   "cell_type": "code",
   "execution_count": 14,
   "id": "271dcb5c",
   "metadata": {},
   "outputs": [],
   "source": [
    "a = 5"
   ]
  },
  {
   "cell_type": "code",
   "execution_count": 15,
   "id": "0f79b9f5",
   "metadata": {},
   "outputs": [
    {
     "data": {
      "text/plain": [
       "True"
      ]
     },
     "execution_count": 15,
     "metadata": {},
     "output_type": "execute_result"
    }
   ],
   "source": [
    "5 == (4+1)"
   ]
  },
  {
   "cell_type": "markdown",
   "id": "a5121985",
   "metadata": {},
   "source": [
    "# Q7. Identify the three blocks in this code:"
   ]
  },
  {
   "cell_type": "markdown",
   "id": "0f73c2dd",
   "metadata": {},
   "source": [
    "spam = 0\n",
    "\n",
    "if spam == 10:\n",
    "\n",
    " print('eggs')\n",
    " \n",
    "if spam > 5:\n",
    "\n",
    " print('bacon')\n",
    " \n",
    "else:\n",
    "\n",
    " print('ham')\n",
    " \n",
    "  print('spam')\n",
    "  \n",
    "   print('spam')\n",
    "   \n",
    "ans:\n",
    "   \n",
    "The three blocks of code is under : if spam==10,if spam>5 and else statement."
   ]
  },
  {
   "cell_type": "markdown",
   "id": "c98e9f13",
   "metadata": {},
   "source": [
    "# Q8. Write code that prints Hello if 1 is stored in spam, prints Howdy if 2 is stored in spam, and prints Greetings! if anything else is stored in spam."
   ]
  },
  {
   "cell_type": "code",
   "execution_count": null,
   "id": "defdbf98",
   "metadata": {},
   "outputs": [],
   "source": [
    "spam = input(\"Enter your value:\")\n",
    "if spam == 1:\n",
    "    print(\"Hello\")\n",
    "elif spam == 2:\n",
    "    print(\"Howdy\")\n",
    "else:\n",
    "    print(\"Greetings!\")"
   ]
  },
  {
   "cell_type": "markdown",
   "id": "ef72fe12",
   "metadata": {},
   "source": [
    "# Q9.If your programme is stuck in an endless loop, what keys you’ll press?"
   ]
  },
  {
   "cell_type": "markdown",
   "id": "d0552c4b",
   "metadata": {},
   "source": [
    "ans:\n",
    "\n",
    "I will press Ctrl + C"
   ]
  },
  {
   "cell_type": "markdown",
   "id": "3880a2e8",
   "metadata": {},
   "source": [
    "# Q10. How can you tell the difference between break and continue?"
   ]
  },
  {
   "cell_type": "markdown",
   "id": "b43d414d",
   "metadata": {},
   "source": [
    "ans:\n",
    "\n",
    "The difference between break and continue described below:\n",
    "break is use to when we have to get out of a loop before it make the condition false and \n",
    "continue is use to skip a particuler value between the mentioned condition in the code."
   ]
  },
  {
   "cell_type": "code",
   "execution_count": null,
   "id": "a6b91210",
   "metadata": {},
   "outputs": [],
   "source": []
  }
 ],
 "metadata": {
  "kernelspec": {
   "display_name": "Python 3 (ipykernel)",
   "language": "python",
   "name": "python3"
  },
  "language_info": {
   "codemirror_mode": {
    "name": "ipython",
    "version": 3
   },
   "file_extension": ".py",
   "mimetype": "text/x-python",
   "name": "python",
   "nbconvert_exporter": "python",
   "pygments_lexer": "ipython3",
   "version": "3.9.7"
  }
 },
 "nbformat": 4,
 "nbformat_minor": 5
}
